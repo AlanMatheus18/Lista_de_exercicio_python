{
  "nbformat": 4,
  "nbformat_minor": 0,
  "metadata": {
    "colab": {
      "provenance": [],
      "authorship_tag": "ABX9TyMbH5uUDFxis8pgYxAIW6AY",
      "include_colab_link": true
    },
    "kernelspec": {
      "name": "python3",
      "display_name": "Python 3"
    },
    "language_info": {
      "name": "python"
    }
  },
  "cells": [
    {
      "cell_type": "markdown",
      "metadata": {
        "id": "view-in-github",
        "colab_type": "text"
      },
      "source": [
        "<a href=\"https://colab.research.google.com/github/AlanMatheus18/Lista_de_exercicio_python/blob/main/vetor_imc.ipynb\" target=\"_parent\"><img src=\"https://colab.research.google.com/assets/colab-badge.svg\" alt=\"Open In Colab\"/></a>"
      ]
    },
    {
      "cell_type": "code",
      "execution_count": 1,
      "metadata": {
        "colab": {
          "base_uri": "https://localhost:8080/"
        },
        "id": "VrPnttDaPIcq",
        "outputId": "5075cfbf-fe75-4581-8d69-936c85e542a5"
      },
      "outputs": [
        {
          "output_type": "stream",
          "name": "stdout",
          "text": [
            "[181, 100, 40]\n"
          ]
        }
      ],
      "source": [
        "#aula vetores\n",
        "\n",
        "imc = [181, 100, 40]\n",
        "print(imc)"
      ]
    },
    {
      "cell_type": "code",
      "source": [
        "#vetor notas\n",
        "\n",
        "notas = [10, 9, 8, 5]\n",
        "print(notas)\n"
      ],
      "metadata": {
        "colab": {
          "base_uri": "https://localhost:8080/"
        },
        "id": "B31Fd3_SPujP",
        "outputId": "b4d48c30-78a7-473d-81b8-a47014e646bc"
      },
      "execution_count": 2,
      "outputs": [
        {
          "output_type": "stream",
          "name": "stdout",
          "text": [
            "[10, 9, 8]\n"
          ]
        }
      ]
    },
    {
      "cell_type": "code",
      "source": [
        "#soma dos vetores\n",
        "semestre1 = [6, 6, 6, 6]\n",
        "semestre2 = [6, 6, 6, 6]\n",
        "\n",
        "soma = sum(semestre1 + semestre2)/2\n",
        "resul = print(soma)"
      ],
      "metadata": {
        "colab": {
          "base_uri": "https://localhost:8080/"
        },
        "id": "7TW4CwVzRLxT",
        "outputId": "21e1b87f-edf0-4bb5-c0da-e1bfd553a5f6"
      },
      "execution_count": 14,
      "outputs": [
        {
          "output_type": "stream",
          "name": "stdout",
          "text": [
            "24.0\n"
          ]
        }
      ]
    }
  ]
}