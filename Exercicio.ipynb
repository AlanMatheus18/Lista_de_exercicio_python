{
  "nbformat": 4,
  "nbformat_minor": 0,
  "metadata": {
    "colab": {
      "provenance": [],
      "authorship_tag": "ABX9TyNh5q5LlLtphJQ0NmefbHhm",
      "include_colab_link": true
    },
    "kernelspec": {
      "name": "python3",
      "display_name": "Python 3"
    },
    "language_info": {
      "name": "python"
    }
  },
  "cells": [
    {
      "cell_type": "markdown",
      "metadata": {
        "id": "view-in-github",
        "colab_type": "text"
      },
      "source": [
        "<a href=\"https://colab.research.google.com/github/AlanMatheus18/Lista_de_exercicio_python/blob/main/Exercicio.ipynb\" target=\"_parent\"><img src=\"https://colab.research.google.com/assets/colab-badge.svg\" alt=\"Open In Colab\"/></a>"
      ]
    },
    {
      "cell_type": "code",
      "execution_count": 25,
      "metadata": {
        "colab": {
          "base_uri": "https://localhost:8080/"
        },
        "id": "Uab-Us26ARsH",
        "outputId": "ee0c9dd4-dc0b-48f7-8ccf-829584cf82cf"
      },
      "outputs": [
        {
          "output_type": "stream",
          "name": "stdout",
          "text": [
            "Digite a letra correspondente ao seu sexo (F/M): M\n",
            "M - Masculino\n"
          ]
        }
      ],
      "source": [
        "#Questão1\n",
        "print('Olá ETE PORTO DIGITAL')\n",
        "\n",
        "#Questão2\n",
        "numero = input()\n",
        "print('O número informado foi ',numero)\n",
        "\n",
        "#Questão3\n",
        "x = int(input('informe seu 1 numero: '))\n",
        "y = int(input('informe seu 2 numero: '))\n",
        "soma = x+y\n",
        "print(soma)\n",
        "\n",
        "#Questão 4\n",
        "nota1 = float(input('Digite a nota do primeiro bimestre: '))\n",
        "nota2 = float(input('Digite a nota do segundo bimestre: '))\n",
        "nota3 = float(input('Digite a nota do terceiro bimestre: '))\n",
        "nota4 = float(input('Digite a nota do quarto bimestre: '))\n",
        "\n",
        "media_final = nota1+nota2+nota3+nota4/4\n",
        "print(\"A média final é: \" , media_final)\n",
        "\n",
        "#Questão5\n",
        "metros = int(input('informe o valor em metros: '))\n",
        "centimetros = metros*100\n",
        "print(metros, 'metros equivalem a', centimetros, 'centímetros.')\n",
        "\n",
        "#Questão6\n",
        "r_circulo = float(input('informe o raio do circulo: '))\n",
        "area = 3.14*(r_circulo*r_circulo)\n",
        "print('a area do circulo é: ' , area)\n",
        "\n",
        "#Questão7\n",
        "lado = int(input('Digite o tamanho do lado do quadrado:  '))\n",
        "area = lado**2\n",
        "dobro_area = area**2\n",
        "print(\"A área do quadrado é:\", area)\n",
        "print('O dobro da área do quadrado é:: ', dobro_area)\n",
        "\n",
        "#Questão8\n",
        "valor_hora = float(input(\"Digite o valor do salário por hora: \"))\n",
        "horas_trabalhadas = float(input(\"Digite o número de horas trabalhadas no mês: \"))\n",
        "salario = valor_hora * horas_trabalhadas\n",
        "print(\"O salário total no referido mês é de:\", salario)\n",
        "\n",
        "#Questão9\n",
        "valor = int(input('digite um valor: '))\n",
        "if valor >=0:\n",
        "  print('o seu valor digitado é positivo')\n",
        "else:\n",
        "  print('o seu valor é negativo')\n",
        "\n",
        "#Questão10\n",
        "letra = str(input('Digite a letra correspondente ao seu sexo (F/M): '))\n",
        "if letra == 'F' or letra == 'f':\n",
        "  print('F - Feminino')\n",
        "elif letra == 'M' or letra == 'm':\n",
        "  print('M - Masculino')\n",
        "else:\n",
        "  print('sexo invalido') "
      ]
    }
  ]
}